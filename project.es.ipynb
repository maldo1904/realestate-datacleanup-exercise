{
 "cells": [
  {
   "attachments": {},
   "cell_type": "markdown",
   "id": "innocent-university",
   "metadata": {},
   "source": [
    "# Limpieza de bienes raíces\n",
    "\n",
    "Este es un conjunto de datos (dataset) reales que fue descargado usando técnicas de web scraping. La data contiene registros de **Fotocasa**, el cual es uno de los sitios más populares de bienes raíces en España. Por favor no hagas esto (web scraping) a no ser que sea para propósitos académicos.\n",
    "\n",
    "El dataset fue descargado hace algunos años por Henry Navarro y en ningún caso se obtuvo beneficio económico de ello.\n",
    "\n",
    "Contiene miles de datos de casas reales publicadas en la web www.fotocasa.com. Tu objetivo es extraer tanta información como sea posible con el conocimiento que tienes hasta ahora de ciencia de datos, por ejemplo ¿cuál es la casa más cara en todo el dataset?\n",
    "\n",
    "Empecemos precisamente con esa pregunta... ¡Buena suerte!"
   ]
  },
  {
   "attachments": {},
   "cell_type": "markdown",
   "id": "multiple-glass",
   "metadata": {},
   "source": [
    "#### Ejercicio 00. Lee el dataset assets/real_estate.csv e intenta visualizar la tabla (★☆☆)"
   ]
  },
  {
   "cell_type": "code",
   "execution_count": 2,
   "id": "frank-heath",
   "metadata": {},
   "outputs": [
    {
     "name": "stdout",
     "output_type": "stream",
     "text": [
      "Index(['Unnamed: 0', 'id_realEstates', 'isNew', 'realEstate_name',\n",
      "       'phone_realEstate', 'url_inmueble', 'rooms', 'bathrooms', 'surface',\n",
      "       'price', 'date', 'description', 'address', 'country', 'level1',\n",
      "       'level2', 'level3', 'level4', 'level5', 'level6', 'level7', 'level8',\n",
      "       'upperLevel', 'countryId', 'level1Id', 'level2Id', 'level3Id',\n",
      "       'level4Id', 'level5Id', 'level6Id', 'level7Id', 'level8Id', 'accuracy',\n",
      "       'latitude', 'longitude', 'zipCode', 'customZone'],\n",
      "      dtype='object')\n"
     ]
    }
   ],
   "source": [
    "import pandas as pd\n",
    "\n",
    "# Este archivo CSV contiene puntos y comas en lugar de comas como separadores\n",
    "ds = pd.read_csv('assets/real_estate.csv', sep=';')\n",
    "ds\n",
    "print(data_frame.columns)"
   ]
  },
  {
   "attachments": {},
   "cell_type": "markdown",
   "id": "latin-guest",
   "metadata": {},
   "source": [
    "#### Ejercicio 01. ¿Cuál es la casa más cara en todo el dataset? (★☆☆)\n",
    "\n",
    "Imprime la dirección y el precio de la casa seleccionada. Por ejemplo:\n",
    "\n",
    "`La casa con dirección en Calle del Prado, Nº20 es la más cara y su precio es de 5000000 USD`"
   ]
  },
  {
   "cell_type": "code",
   "execution_count": 3,
   "id": "developing-optimum",
   "metadata": {},
   "outputs": [
    {
     "name": "stdout",
     "output_type": "stream",
     "text": [
      "La casa con direccion en El Escorial es la mas cara y su precio es de 8500000 USD\n"
     ]
    }
   ],
   "source": [
    "# TODO\n",
    "import pandas as pd\n",
    "data_frame = pd.read_csv('assets/real_estate.csv', sep=';')\n",
    "\n",
    "maximo_precio = data_frame.loc[data_frame['price'].idxmax()]\n",
    "\n",
    "direccion = maximo_precio['address']\n",
    "precio = maximo_precio ['price']\n",
    "\n",
    "print(f\"La casa con direccion en {direccion} es la mas cara y su precio es de {precio} USD\")\n"
   ]
  },
  {
   "attachments": {},
   "cell_type": "markdown",
   "id": "lesser-cosmetic",
   "metadata": {},
   "source": [
    "#### Ejercicio 02. ¿Cuál es la casa más barata del dataset? (★☆☆)\n",
    "\n",
    "Imprime la dirección y el precio de la casa seleccionada. Por ejemplo:\n",
    "\n",
    "`La casa con dirección en Calle Alcalá, Nº58 es la más barata y su precio es de 12000 USD`"
   ]
  },
  {
   "cell_type": "code",
   "execution_count": 4,
   "id": "lovely-oasis",
   "metadata": {},
   "outputs": [
    {
     "name": "stdout",
     "output_type": "stream",
     "text": [
      "La casa con direccion en Parla es la mas barata y su precio es de 0 USD\n"
     ]
    }
   ],
   "source": [
    "# TODO\n",
    "import pandas as pd\n",
    "data_frame = pd.read_csv('assets/real_estate.csv', sep=';')\n",
    "\n",
    "precio_minimo = data_frame.loc[data_frame['price'].idxmin()]\n",
    "\n",
    "direccion = precio_minimo['address']\n",
    "precio=precio_minimo['price']\n",
    "\n",
    "print(f\"La casa con direccion en {direccion} es la mas barata y su precio es de {precio} USD\")"
   ]
  },
  {
   "attachments": {},
   "cell_type": "markdown",
   "id": "compliant-fellowship",
   "metadata": {},
   "source": [
    "#### Ejercicio 03. ¿Cuál es la casa más grande y la más pequeña del dataset? (★☆☆)\n",
    "\n",
    "Imprime la dirección y el área de las casas seleccionadas. Por ejemplo:\n",
    "\n",
    "`La casa más grande está ubicada en Calle Gran Vía, Nº38 y su superficie es de 5000 metros`\n",
    "\n",
    "`La casa más pequeña está ubicada en Calle Mayor, Nº12 y su superficie es de 200 metros`"
   ]
  },
  {
   "cell_type": "code",
   "execution_count": 5,
   "id": "every-tiffany",
   "metadata": {},
   "outputs": [
    {
     "name": "stdout",
     "output_type": "stream",
     "text": [
      "La casa más grande está ubicada en Sevilla la Nueva y su superficie es de 249000.0 metros\n",
      "La casa más pequeña está ubicada en Calle Amparo,  Madrid Capital y su superficie es de 15.0 metros\n"
     ]
    }
   ],
   "source": [
    "# TODO\n",
    "import pandas as pd\n",
    "data_frame=pd.read_csv('assets/real_estate.csv', sep=';')\n",
    "\n",
    "casa_grande = data_frame.loc[data_frame['surface'].idxmax()]\n",
    "direccion_grande = casa_grande['address']\n",
    "superficie_grande = casa_grande['surface']\n",
    "\n",
    "casa_pequeña = data_frame.loc[data_frame['surface'].idxmin()]\n",
    "direccion_pequeña = casa_pequeña['address']\n",
    "superficie_pequeña=casa_pequeña['surface']\n",
    "\n",
    "print(f\"La casa más grande está ubicada en {direccion_grande} y su superficie es de {superficie_grande} metros\")\n",
    "print(f\"La casa más pequeña está ubicada en {direccion_pequeña} y su superficie es de {superficie_pequeña} metros\")\n",
    "\n"
   ]
  },
  {
   "attachments": {},
   "cell_type": "markdown",
   "id": "danish-spirit",
   "metadata": {},
   "source": [
    "#### Ejercicio 04. ¿Cuantas poblaciones (columna level5) contiene el dataset? (★☆☆)\n",
    "\n",
    "Imprime el nombre de las poblaciones separadas por coma. Por ejemplo:\n",
    "\n",
    "`> print(populations)`\n",
    "\n",
    "`population1, population2, population3, ...`"
   ]
  },
  {
   "cell_type": "code",
   "execution_count": 6,
   "id": "exciting-accreditation",
   "metadata": {},
   "outputs": [
    {
     "name": "stdout",
     "output_type": "stream",
     "text": [
      "Arganda del Rey, Fuenlabrada, Boadilla del Monte, Las Rozas de Madrid,  Madrid Capital, Villaviciosa de Odón, Pinto, Valdemoro, Navalcarnero, Pozuelo de Alarcón, Torrejón de Ardoz, Navalagamella, San Sebastián de los Reyes, Rivas-vaciamadrid, Alpedrete, Móstoles, San Fernando de Henares, Coslada, Becerril de la Sierra, Alcalá de Henares, Chinchón, Parla, Alcorcón, El Escorial, Leganés, Pedrezuela, Majadahonda, Villanueva de la Cañada, Villanueva del Pardillo, Torrelodones, Moralzarzal, Mejorada del Campo, Aranjuez, Corpa, Getafe, Velilla de San Antonio, Sevilla la Nueva, San Martín de la Vega, Villalbilla, Collado Villalba, Alcobendas, El Molar (Madrid), Moraleja de Enmedio, Algete, Campo Real, Torrejón de la Calzada, Colmenar Viejo, Valdemorillo, Fuente El Saz de Jarama, Tres Cantos, Arroyomolinos (Madrid), Griñón, Paracuellos de Jarama, Guadarrama, Titulcia, Galapagar, Collado Mediano, Los Molinos, San Lorenzo de El Escorial, Loeches, San Martín de Valdeiglesias, Navas del Rey, Bustarviejo, Manzanares El Real, Carabaña, Casarrubuelos, Cercedilla, Fresnedillas de la Oliva, Valdemaqueda, Robledo de Chavela, Miraflores de la Sierra, Humanes de Madrid, Valdetorres de Jarama, San Agustín del Guadalix, Ciempozuelos, Camarma de Esteruelas, Torres de la Alameda, Talamanca de Jarama, El Atazar, Hoyo de Manzanares, El Boalo - Cerceda – Mataelpino, El Álamo, Valdilecha, Valdeolmos-Alalpardo, Guadalix de la Sierra, Belmonte de Tajo, El Vellón, Brunete, Redueña, Morata de Tajuña, Tielmes, Gargantilla del Lozoya, Meco, Venturada, Quijorna, Cenicientos, Torrejón de Velasco, Navacerrada, Santa María de la Alameda, Orusco de Tajuña, Daganzo de Arriba, Villamanta, Anchuelo, Valdaracete, Ajalvir, Los Santos de la Humosa, Villamanrique de Tajo, Colmenar de Oreja, Villa del Prado, Fuentidueña de Tajo, Colmenar del Arroyo, Valdelaguna, Cubas de la Sagra, Valdeavero, Aldea del Fresno, Ribatejada, Torrelaguna, Batres, Pezuela de las Torres, Colmenarejo, Serranillos del Valle, Cobeña, Soto del Real, El Berrueco, Villanueva de Perales, Fresno de Torote - Serracines, Pozuelo del Rey, Pelayos de la Presa, La Cabrera, Nuevo Baztán, Perales de Tajuña, Villaconejos, Villarejo de Salvanés, Cadalso de los Vidrios, Santorcaz, Madarcos, Garganta de los Montes, Puentes Viejas, Torremocha de Jarama, Valdemanco, Braojos, Lozoyuela-navas-sieteiglesias, Piñuécar-gandullas, Valdepiélagos, Valverde de Alcalá, Villar del Olmo, Villamantilla, Horcajo de la Sierra, Gascones, Zarzalejo, Villavieja del Lozoya, Brea de Tajo, Estremera, Chapinería, Navarredonda, Patones, Ambite, Navalafuente, Lozoya, Canencia, Cabanillas de la Sierra, Buitrago del Lozoya, Fresno de Torote, Robregordo, Pinilla del Valle, Rascafría, La Hiruela, Montejo de la Sierra\n"
     ]
    }
   ],
   "source": [
    "# TODO\n",
    "# TODO\n",
    "import pandas as pd\n",
    "data_frame=pd.read_csv('assets/real_estate.csv', sep=';')\n",
    "\n",
    "poblaciones = data_frame['level5'].unique()\n",
    "\n",
    "print(', '.join(poblaciones))"
   ]
  },
  {
   "attachments": {},
   "cell_type": "markdown",
   "id": "crazy-blame",
   "metadata": {},
   "source": [
    "#### Ejercicio 05. ¿El dataset contiene valores no admitidos (NAs)? (★☆☆)\n",
    "\n",
    "Imprima un booleano (`True` o `False`) seguido de la fila/columna que contiene el NAs."
   ]
  },
  {
   "cell_type": "code",
   "execution_count": 7,
   "id": "transparent-poetry",
   "metadata": {},
   "outputs": [
    {
     "name": "stdout",
     "output_type": "stream",
     "text": [
      "True\n"
     ]
    }
   ],
   "source": [
    "# TODO\n",
    "import pandas as pd\n",
    "data_frame=pd.read_csv('assets/real_estate.csv', sep=';')\n",
    "nulos = data_frame.isna().any().any()\n",
    "\n",
    "print(nulos)"
   ]
  },
  {
   "attachments": {},
   "cell_type": "markdown",
   "id": "italic-hydrogen",
   "metadata": {},
   "source": [
    "#### Ejercicio 06. Elimina los NAs del dataset, si aplica (★★☆)\n",
    "\n",
    "Imprima una comparación entre las dimensiones del DataFrame original versus el DataFrame después de las eliminaciones.\n"
   ]
  },
  {
   "cell_type": "code",
   "execution_count": 8,
   "id": "administrative-roads",
   "metadata": {},
   "outputs": [
    {
     "name": "stdout",
     "output_type": "stream",
     "text": [
      "(15335, 37)\n",
      "(0, 37)\n"
     ]
    }
   ],
   "source": [
    "# TODO\n",
    "import pandas as pd\n",
    "data_frame_original=pd.read_csv('assets/real_estate.csv', sep=';')\n",
    "print(data_frame_original.shape)\n",
    "\n",
    "data_frame_sin_nulos=data_frame_original.dropna(how=\"any\")\n",
    "print(data_frame_sin_nulos.shape)"
   ]
  },
  {
   "attachments": {},
   "cell_type": "markdown",
   "id": "middle-china",
   "metadata": {},
   "source": [
    "#### Ejercicio 07. ¿Cuál la media de precios en la población (columna level5) de \"Arroyomolinos (Madrid)\"? (★★☆)\n",
    "\n",
    "Imprima el valor obtenido."
   ]
  },
  {
   "cell_type": "code",
   "execution_count": 9,
   "id": "nuclear-belief",
   "metadata": {},
   "outputs": [
    {
     "name": "stdout",
     "output_type": "stream",
     "text": [
      "294541.59854014596\n"
     ]
    }
   ],
   "source": [
    "# TODO\n",
    "import pandas as pd\n",
    "data_frame=pd.read_csv('assets/real_estate.csv', sep=';')\n",
    "media_poblacion_Arroyomolinos=data_frame.loc[data_frame['level5']==\"Arroyomolinos (Madrid)\",'price'].mean()\n",
    "print(media_poblacion_Arroyomolinos)\n"
   ]
  },
  {
   "attachments": {},
   "cell_type": "markdown",
   "id": "concerned-radical",
   "metadata": {},
   "source": [
    "#### Ejercicio 08. Trazar el histograma de los precios para la población (level5 column) de \"Arroyomolinos (Madrid)\" y explica qué observas (★★☆)\n",
    "\n",
    "Imprime el histograma de los precios y escribe en la celda del Markdown un breve análisis del trazado.\n"
   ]
  },
  {
   "cell_type": "code",
   "execution_count": 10,
   "id": "sudden-message",
   "metadata": {},
   "outputs": [
    {
     "data": {
      "image/png": "[encoded data removed]",
      "text/plain": [
       "<Figure size 640x480 with 1 Axes>"
      ]
     },
     "metadata": {},
     "output_type": "display_data"
    }
   ],
   "source": [
    "# TODO: Code\n",
    "import pandas as pd\n",
    "import matplotlib.pyplot as plt\n",
    "data_frame=pd.read_csv('assets/real_estate.csv', sep=';')\n",
    "Arroyomolinos=data_frame.loc[data_frame['level5']==\"Arroyomolinos (Madrid)\"]\n",
    "plt.hist(Arroyomolinos['price'], bins=20,edgecolor='black')\n",
    "plt.title(\"Histograma de precios Arroyomolinos (Madrid)\")\n",
    "plt.xlabel('Precio')\n",
    "plt.ylabel('Frecuencia')\n",
    "plt.show()"
   ]
  },
  {
   "attachments": {},
   "cell_type": "markdown",
   "id": "impressed-combination",
   "metadata": {},
   "source": [
    "**TODO: Markdown**. Observo que hay solo 2 casas menores de 50,000, la mayoría de las casas se concentran entre los 150,000 - 550,000; también se puede observar que hay 50 casas de un precio aproximado de 200,000 y 250,000 (20 por cada precio), siendo estas las de este tipo las que mas hay\n"
   ]
  },
  {
   "attachments": {},
   "cell_type": "markdown",
   "id": "actual-edinburgh",
   "metadata": {},
   "source": [
    "#### Ejercicio 09. ¿Son los precios promedios de \"Valdemorillo\" y \"Galapagar\" los mismos? (★★☆)\n",
    "\n",
    "Imprime ambos promedios y escribe una conclusión sobre ellos."
   ]
  },
  {
   "cell_type": "code",
   "execution_count": 14,
   "id": "numeric-commerce",
   "metadata": {},
   "outputs": [
    {
     "name": "stdout",
     "output_type": "stream",
     "text": [
      "No lo son, Valdemorrillo es nan y Galapagar es de: 360063.20238095237\n",
      "0\n"
     ]
    }
   ],
   "source": [
    "# TODO\n",
    "import pandas as pd\n",
    "data_frame=pd.read_csv('assets/real_estate.csv', sep=';')\n",
    "\n",
    "Valdemorrillo_precio_promedio = data_frame.loc[data_frame[\"level5\"]==\"Valdemorrillo\", \"price\"].mean()\n",
    "Galapagar_precio_promedio = data_frame.loc[data_frame[\"level5\"] == \"Galapagar\", \"price\"].mean()\n",
    "if Valdemorrillo_precio_promedio == Galapagar_precio_promedio:\n",
    "    print(f\"Son iguales, y su precio promedio es de {Valdemorrillo_precio_promedio}\")\n",
    "else:\n",
    "    print(f\"No lo son, Valdemorrillo es {Valdemorrillo_precio_promedio} y Galapagar es de: {Galapagar_precio_promedio}\")\n",
    "\n",
    "print(data_frame[data_frame['level5'] == 'Valdemorrillo']['price'].isnull().sum()) "
   ]
  },
  {
   "attachments": {},
   "cell_type": "markdown",
   "id": "lonely-article",
   "metadata": {},
   "source": [
    "#### Ejercicio 10. ¿Son los promedios de precio por metro cuadrado (precio/m2) de \"Valdemorillo\" y \"Galapagar\" los mismos? (★★☆)\n",
    "\n",
    "Imprime ambos promedios de precio por metro cuadrado y escribe una conclusión sobre ellos.\n",
    "\n",
    "Pista: Crea una nueva columna llamada `pps` (*price per square* o precio por metro cuadrado) y luego analiza los valores."
   ]
  },
  {
   "cell_type": "code",
   "execution_count": 24,
   "id": "hourly-globe",
   "metadata": {},
   "outputs": [
    {
     "name": "stdout",
     "output_type": "stream",
     "text": [
      "Promedio de precio por metro cuadrado en Valdemorrillo: nan\n",
      "Promedio de precio por metro cuadrado en Galapagar: 1606.3240303094024\n",
      "Los promedios de precio por metro cuadrado de Valdemorrillo y Galapagar no son iguales.\n"
     ]
    }
   ],
   "source": [
    "# TODO\n",
    "import pandas as pd\n",
    "data_frame=pd.read_csv('assets/real_estate.csv', sep=';')\n",
    "data_frame['pps']=data_frame['price']/data_frame['surface']\n",
    "promedio_valdemorrillo = data_frame.loc[data_frame['level5'] == \"Valdemorrillo\", 'pps'].mean()\n",
    "promedio_galapagar = data_frame.loc[data_frame['level5'] == \"Galapagar\", 'pps'].mean()\n",
    "print(f\"Promedio de precio por metro cuadrado en Valdemorrillo: {promedio_valdemorrillo}\")\n",
    "print(f\"Promedio de precio por metro cuadrado en Galapagar: {promedio_galapagar}\")\n",
    "\n",
    "if promedio_valdemorrillo == promedio_galapagar:\n",
    "    print(\"Los promedios de precio por metro cuadrado de Valdemorrillo y Galapagar son iguales.\")\n",
    "else:\n",
    "    print(\"Los promedios de precio por metro cuadrado de Valdemorrillo y Galapagar no son iguales.\")\n"
   ]
  },
  {
   "attachments": {},
   "cell_type": "markdown",
   "id": "pleasant-invite",
   "metadata": {},
   "source": [
    "#### Ejercicio 11. Analiza la relación entre la superficie y el precio de las casas. (★★☆)\n",
    "\n",
    "Pista: Puedes hacer un `scatter plot` y luego escribir una conclusión al respecto."
   ]
  },
  {
   "cell_type": "code",
   "execution_count": 17,
   "id": "common-drilling",
   "metadata": {},
   "outputs": [
    {
     "data": {
      "image/png": "[encoded data removed]",
      "text/plain": [
       "<Figure size 1000x600 with 1 Axes>"
      ]
     },
     "metadata": {},
     "output_type": "display_data"
    }
   ],
   "source": [
    "# TODO: Código\n",
    "import pandas as pd\n",
    "import matplotlib.pyplot as plt\n",
    "\n",
    "data_frame=pd.read_csv('assets/real_estate.csv', sep=';')\n",
    "plt.figure(figsize=(10,6))\n",
    "plt.scatter(data_frame['surface'],data_frame['price'], alpha=0.7,color='blue')\n",
    "\n",
    "plt.title('Relación entre la superficie y el precio de las casas')\n",
    "plt.xlabel('Superficie')\n",
    "plt.ylabel('Precio')\n",
    "plt.show()\n"
   ]
  },
  {
   "attachments": {},
   "cell_type": "markdown",
   "id": "ahead-liquid",
   "metadata": {},
   "source": [
    "La superficie incluye datos incorrectos o nulos"
   ]
  },
  {
   "attachments": {},
   "cell_type": "markdown",
   "id": "coordinate-sunrise",
   "metadata": {},
   "source": [
    "#### Ejercicio 12. ¿Cuántas agencia de bienes raíces contiene el dataset? (★★☆)\n",
    "\n",
    "Imprime el valor obtenido."
   ]
  },
  {
   "cell_type": "code",
   "execution_count": 18,
   "id": "valid-honolulu",
   "metadata": {},
   "outputs": [
    {
     "name": "stdout",
     "output_type": "stream",
     "text": [
      "1821\n"
     ]
    }
   ],
   "source": [
    "# TODO\n",
    "import pandas as pd\n",
    "data_frame=pd.read_csv('assets/real_estate.csv', sep=';')\n",
    "num_agencias=data_frame['realEstate_name'].nunique()\n",
    "print(num_agencias)"
   ]
  },
  {
   "attachments": {},
   "cell_type": "markdown",
   "id": "binding-ebony",
   "metadata": {},
   "source": [
    "#### Ejercicio 13. ¿Cuál es la población (columna level5) que contiene la mayor cantidad de casas?(★★☆)\n",
    "\n",
    "Imprima la población y el número de casas."
   ]
  },
  {
   "cell_type": "code",
   "execution_count": 19,
   "id": "static-perry",
   "metadata": {},
   "outputs": [
    {
     "name": "stdout",
     "output_type": "stream",
     "text": [
      "La población con más casas es:  Madrid Capital\n",
      "Número de casas en  Madrid Capital: 6643\n"
     ]
    }
   ],
   "source": [
    "# TODO\n",
    "import pandas as pd\n",
    "data_frame=pd.read_csv('assets/real_estate.csv', sep=';')\n",
    "poblacion_mas_casas = data_frame['level5'].value_counts().idxmax()\n",
    "numero_casas = data_frame['level5'].value_counts().max()\n",
    "\n",
    "print(f\"La población con más casas es: {poblacion_mas_casas}\")\n",
    "print(f\"Número de casas en {poblacion_mas_casas}: {numero_casas}\")"
   ]
  },
  {
   "attachments": {},
   "cell_type": "markdown",
   "id": "entire-classification",
   "metadata": {},
   "source": [
    "#### Ejercicio 14. Ahora vamos a trabajar con el \"cinturón sur\" de Madrid. Haz un subconjunto del DataFrame original que contenga las siguientes poblaciones (columna level5): \"Fuenlabrada\", \"Leganés\", \"Getafe\", \"Alcorcón\" (★★☆)\n",
    "\n",
    "Pista: Filtra el DataFrame original usando la columna `level5` y la función `isin`."
   ]
  },
  {
   "cell_type": "code",
   "execution_count": 20,
   "id": "binary-input",
   "metadata": {},
   "outputs": [
    {
     "name": "stdout",
     "output_type": "stream",
     "text": [
      "El número de casas en el cinturon sur es de 907\n"
     ]
    }
   ],
   "source": [
    "# TODO\n",
    "import pandas as pd\n",
    "data_frame=pd.read_csv('assets/real_estate.csv', sep=';')\n",
    "cinturon_sur=[\"Fuenlabrada\", \"Leganés\", \"Getafe\", \"Alcorcón\"]\n",
    "data_cinturon_sur=data_frame[data_frame['level5'].isin(cinturon_sur)]\n",
    "print(f\"El número de casas en el cinturon sur es de {len(data_cinturon_sur)}\")"
   ]
  },
  {
   "attachments": {},
   "cell_type": "markdown",
   "id": "severe-fisher",
   "metadata": {},
   "source": [
    "#### Ejercicio 15. Traza un gráfico de barras de la mediana de los precios y explica lo que observas (debes usar el subconjunto obtenido del Ejercicio 14) (★★★)\n",
    "\n",
    "Imprima un gráfico de barras de la mediana de precios y escriba en la celda Markdown un breve análisis sobre el gráfico."
   ]
  },
  {
   "cell_type": "code",
   "execution_count": 21,
   "id": "lyric-bunch",
   "metadata": {},
   "outputs": [
    {
     "data": {
      "image/png": "[encoded data removed]",
      "text/plain": [
       "<Figure size 1000x600 with 1 Axes>"
      ]
     },
     "metadata": {},
     "output_type": "display_data"
    }
   ],
   "source": [
    "# TODO: Code\n",
    "import pandas as pd\n",
    "import matplotlib.pyplot as plt\n",
    "data_frame=pd.read_csv('assets/real_estate.csv', sep=';')\n",
    "cinturon_sur=[\"Fuenlabrada\", \"Leganés\", \"Getafe\", \"Alcorcón\"]\n",
    "data_cinturon_sur=data_frame[data_frame['level5'].isin(cinturon_sur)]\n",
    "mediana_cinturon_sur=data_cinturon_sur.groupby('level5')['price'].median()\n",
    "\n",
    "plt.figure(figsize=(10, 6))\n",
    "mediana_cinturon_sur.plot(kind='bar', color=['skyblue', 'orange', 'green', 'purple'], edgecolor='black')\n",
    "plt.title('Mediana de precios en el cinturón sur de Madrid', fontsize=16)\n",
    "plt.xlabel('Población', fontsize=14)\n",
    "plt.ylabel('Mediana de precios', fontsize=14)\n",
    "plt.xticks(rotation=0)\n",
    "plt.grid(axis='y', linestyle='--', alpha=0.7)\n",
    "plt.show()"
   ]
  },
  {
   "attachments": {},
   "cell_type": "markdown",
   "id": "sublime-newspaper",
   "metadata": {},
   "source": [
    "Getafe tiene la mediana de precios más alta, alrededor de 275,000, lo que indica que es más caro comprar una casa allí.\n",
    "Alorcón tiene la mediana de precios más baja, con unos 175,000, lo que sugiere que es la opción más asequible dentro del \"Cinturón Sur\".\n",
    "Las demás poblaciones (Fuenlabrada y Leganés) están en valores intermedios, siendo Fuenlabrada ligeramente más caro que Leganés."
   ]
  },
  {
   "attachments": {},
   "cell_type": "markdown",
   "id": "speaking-diamond",
   "metadata": {},
   "source": [
    "#### Ejercicio 16. Calcula la media y la varianza de muestra para las siguientes variables: precio, habitaciones, superficie y baños (debes usar el subconjunto obtenido del Ejercicio 14) (★★★)\n",
    "\n",
    "Imprime ambos valores por cada variable."
   ]
  },
  {
   "cell_type": "code",
   "execution_count": 22,
   "id": "random-feeling",
   "metadata": {},
   "outputs": [
    {
     "name": "stdout",
     "output_type": "stream",
     "text": [
      "La media del precio es level5\n",
      "Alcorcón       230071.052632\n",
      "Fuenlabrada    177198.021459\n",
      "Getafe         265040.500000\n",
      "Leganés        208682.010309\n",
      "Name: price, dtype: float64\n",
      "La varianza del precio es level5\n",
      "Alcorcón       1.594783e+10\n",
      "Fuenlabrada    4.701021e+09\n",
      "Getafe         2.098267e+10\n",
      "Leganés        1.191394e+10\n",
      "Name: price, dtype: float64\n",
      "La media de las habitaciones es level5\n",
      "Alcorcón       2.914894\n",
      "Fuenlabrada    3.025974\n",
      "Getafe         3.151724\n",
      "Leganés        2.906736\n",
      "Name: rooms, dtype: float64\n",
      "La varianza de las habitaciones es level5\n",
      "Alcorcón       0.933895\n",
      "Fuenlabrada    0.355844\n",
      "Getafe         0.772748\n",
      "Leganés        0.824590\n",
      "Name: rooms, dtype: float64\n",
      "La media de la superficie es level5\n",
      "Alcorcón       105.913295\n",
      "Fuenlabrada    103.624365\n",
      "Getafe         126.896266\n",
      "Leganés        105.852273\n",
      "Name: surface, dtype: float64\n",
      "La varianza de la superficie es level5\n",
      "Alcorcón       4244.323834\n",
      "Fuenlabrada    2264.643893\n",
      "Getafe         5828.110028\n",
      "Leganés        3987.475195\n",
      "Name: surface, dtype: float64\n",
      "La media de las habitaciones es level5\n",
      "Alcorcón       1.623656\n",
      "Fuenlabrada    1.445415\n",
      "Getafe         1.865052\n",
      "Leganés        1.518135\n",
      "Name: bathrooms, dtype: float64\n",
      "La varianza de las habitaciones es level5\n",
      "Alcorcón       0.592735\n",
      "Fuenlabrada    0.353367\n",
      "Getafe         0.658809\n",
      "Leganés        0.553055\n",
      "Name: bathrooms, dtype: float64\n"
     ]
    }
   ],
   "source": [
    "# TODO\n",
    "import pandas as pd\n",
    "import matplotlib.pyplot as plt\n",
    "data_frame=pd.read_csv('assets/real_estate.csv', sep=';')\n",
    "cinturon_sur=[\"Fuenlabrada\", \"Leganés\", \"Getafe\", \"Alcorcón\"]\n",
    "data_cinturon_sur=data_frame[data_frame['level5'].isin(cinturon_sur)]\n",
    "\n",
    "#Precio\n",
    "mediaprecio_cinturon_sur=data_cinturon_sur.groupby('level5')['price'].mean()\n",
    "varianzaprecio_cinturon_sur=data_cinturon_sur.groupby('level5')['price'].var()\n",
    "print(f\"La media del precio es {mediaprecio_cinturon_sur}\")\n",
    "print(f\"La varianza del precio es {varianzaprecio_cinturon_sur}\")\n",
    "\n",
    "#Habitaciones\n",
    "mediahabitaciones_cinturon_sur=data_cinturon_sur.groupby('level5')['rooms'].mean()\n",
    "varianzahabitaciones_cinturon_sur=data_cinturon_sur.groupby('level5')['rooms'].var()\n",
    "print(f\"La media de las habitaciones es {mediahabitaciones_cinturon_sur}\")\n",
    "print(f\"La varianza de las habitaciones es {varianzahabitaciones_cinturon_sur}\")\n",
    "\n",
    "#Superficie\n",
    "mediasuperficie_cinturon_sur=data_cinturon_sur.groupby('level5')['surface'].mean()\n",
    "varianzasuperficie_cinturon_sur=data_cinturon_sur.groupby('level5')['surface'].var()\n",
    "print(f\"La media de la superficie es {mediasuperficie_cinturon_sur}\")\n",
    "print(f\"La varianza de la superficie es {varianzasuperficie_cinturon_sur}\")\n",
    "\n",
    "#Baños\n",
    "mediabaños_cinturon_sur=data_cinturon_sur.groupby('level5')['bathrooms'].mean()\n",
    "varianzabaños_cinturon_sur=data_cinturon_sur.groupby('level5')['bathrooms'].var()\n",
    "print(f\"La media de las habitaciones es {mediabaños_cinturon_sur}\")\n",
    "print(f\"La varianza de las habitaciones es {varianzabaños_cinturon_sur}\")\n"
   ]
  },
  {
   "attachments": {},
   "cell_type": "markdown",
   "id": "revolutionary-matrix",
   "metadata": {},
   "source": [
    "#### Ejercicio 17. ¿Cuál es la casa más cara de cada población? Debes usar el subset obtenido en la pregunta 14 (★★☆)\n",
    "\n",
    "Imprime tanto la dirección como el precio de la casa seleccionada de cada población. Puedes imprimir un DataFrame o una sola línea para cada población."
   ]
  },
  {
   "cell_type": "code",
   "execution_count": null,
   "id": "fifteen-browse",
   "metadata": {},
   "outputs": [],
   "source": [
    "# TODO"
   ]
  },
  {
   "attachments": {},
   "cell_type": "markdown",
   "id": "activated-knight",
   "metadata": {},
   "source": [
    "#### Ejercicio 18. Normaliza la variable de precios para cada población y traza los 4 histogramas en el mismo gráfico (debes usar el subconjunto obtenido en la pregunta 14) (★★★)\n",
    "\n",
    "Para el método de normalización, puedes usar el que consideres adecuado, no hay una única respuesta correcta para esta pregunta. Imprime el gráfico y escribe en la celda de Markdown un breve análisis sobre el gráfico.\n",
    "\n",
    "Pista: Puedes ayudarte revisando la demostración multihist de Matplotlib."
   ]
  },
  {
   "cell_type": "code",
   "execution_count": null,
   "id": "civic-meditation",
   "metadata": {},
   "outputs": [],
   "source": [
    "# TODO"
   ]
  },
  {
   "attachments": {},
   "cell_type": "markdown",
   "id": "precise-heavy",
   "metadata": {},
   "source": [
    "**TODO: Markdown**. Para escribir aquí, haz doble clic en esta celda, elimina este contenido y coloca lo que quieras escribir. Luego ejecuta la celda."
   ]
  },
  {
   "attachments": {},
   "cell_type": "markdown",
   "id": "patent-jonathan",
   "metadata": {},
   "source": [
    "#### Ejercicio 19. ¿Qué puedes decir sobre el precio por metro cuadrado (precio/m2) entre los municipios de 'Getafe' y 'Alcorcón'? Debes usar el subconjunto obtenido en la pregunta 14 (★★☆)\n",
    "\n",
    "Pista: Crea una nueva columna llamada `pps` (price per square en inglés) y luego analiza los valores"
   ]
  },
  {
   "cell_type": "code",
   "execution_count": null,
   "id": "initial-liverpool",
   "metadata": {},
   "outputs": [],
   "source": [
    "# TODO"
   ]
  },
  {
   "attachments": {},
   "cell_type": "markdown",
   "id": "enhanced-moscow",
   "metadata": {},
   "source": [
    "#### Ejercicio 20. Realiza el mismo gráfico para 4 poblaciones diferentes (columna level5) y colócalos en el mismo gráfico. Debes usar el subconjunto obtenido en la pregunta 14 (★★☆) \n",
    "Pista: Haz un diagrama de dispersión de cada población usando subgráficos (subplots)."
   ]
  },
  {
   "cell_type": "code",
   "execution_count": null,
   "id": "accepting-airfare",
   "metadata": {},
   "outputs": [],
   "source": [
    "# TODO"
   ]
  },
  {
   "attachments": {},
   "cell_type": "markdown",
   "id": "blocked-effects",
   "metadata": {},
   "source": [
    "#### Ejercicio 21. Realiza un trazado de las coordenadas (columnas latitud y longitud) del cinturón sur de Madrid por color de cada población (debes usar el subconjunto obtenido del Ejercicio 14) (★★★★)\n",
    "\n",
    "Ejecuta la siguiente celda y luego comienza a codear en la siguiente. Debes implementar un código simple que transforme las columnas de coordenadas en un diccionario de Python (agrega más información si es necesario) y agrégala al mapa."
   ]
  },
  {
   "cell_type": "code",
   "execution_count": null,
   "id": "headed-privacy",
   "metadata": {},
   "outputs": [],
   "source": [
    "from ipyleaflet import Map, basemaps\n",
    "\n",
    "# Mapa centrado en (60 grados latitud y -2.2 grados longitud)\n",
    "# Latitud, longitud\n",
    "map = Map(center = (60, -2.2), zoom = 2, min_zoom = 1, max_zoom = 20, \n",
    "    basemap=basemaps.Stamen.Terrain)\n",
    "map"
   ]
  },
  {
   "cell_type": "code",
   "execution_count": null,
   "id": "present-mistress",
   "metadata": {},
   "outputs": [],
   "source": [
    "## Aquí: traza la coordenadas de los estados\n",
    "\n",
    "## PON TU CÓDIGO AQUÍ:\n"
   ]
  }
 ],
 "metadata": {
  "kernelspec": {
   "display_name": "Python 3",
   "language": "python",
   "name": "python3"
  },
  "language_info": {
   "codemirror_mode": {
    "name": "ipython",
    "version": 3
   },
   "file_extension": ".py",
   "mimetype": "text/x-python",
   "name": "python",
   "nbconvert_exporter": "python",
   "pygments_lexer": "ipython3",
   "version": "3.11.4"
  }
 },
 "nbformat": 4,
 "nbformat_minor": 5
}
